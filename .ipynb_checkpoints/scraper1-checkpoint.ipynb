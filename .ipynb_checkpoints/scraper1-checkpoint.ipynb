{
 "cells": [
  {
   "cell_type": "code",
   "execution_count": 1,
   "id": "f149b729",
   "metadata": {},
   "outputs": [],
   "source": [
    "import requests\n",
    "from bs4 import BeautifulSoup"
   ]
  },
  {
   "cell_type": "code",
   "execution_count": 2,
   "id": "765deafc",
   "metadata": {},
   "outputs": [],
   "source": [
    "URL = \"https://www.bbc.com/news/science_and_environment/\"\n",
    "\n",
    "page = requests.get(URL)\n",
    "\n",
    "soup = BeautifulSoup(page.content, \"html.parser\")"
   ]
  },
  {
   "cell_type": "code",
   "execution_count": 10,
   "id": "3994a420",
   "metadata": {},
   "outputs": [],
   "source": [
    "element_class = \"gs-c-promo-heading gs-o-faux-block-link__overlay-link gel-pica-bold nw-o-link-split__anchor\"\n",
    "results = soup.find_all(\"a\", {\"class\": element_class})"
   ]
  },
  {
   "cell_type": "code",
   "execution_count": 15,
   "id": "c6ba4f31",
   "metadata": {},
   "outputs": [
    {
     "name": "stdout",
     "output_type": "stream",
     "text": [
      "[<a class=\"gs-c-promo-heading gs-o-faux-block-link__overlay-link gel-pica-bold nw-o-link-split__anchor\" href=\"/news/uk-politics-63426674\"><h3 class=\"gs-c-promo-heading__title gel-pica-bold nw-o-link-split__text\">Ministers admit missing water and nature targets</h3></a>, <a class=\"gs-c-promo-heading gs-o-faux-block-link__overlay-link gel-pica-bold nw-o-link-split__anchor\" href=\"https://www.bbc.co.uk/ideas/videos/should-animals-be-kept-in-zoos/p0d93nsv\"><h3 class=\"gs-c-promo-heading__title gel-pica-bold nw-o-link-split__text\">Should animals be kept in zoos?</h3></a>, <a class=\"gs-c-promo-heading gs-o-faux-block-link__overlay-link gel-pica-bold nw-o-link-split__anchor\" href=\"/news/science-environment-63418056\"><h3 class=\"gs-c-promo-heading__title gel-pica-bold nw-o-link-split__text\">Nasa space probes document big impacts on Mars</h3></a>, <a class=\"gs-c-promo-heading gs-o-faux-block-link__overlay-link gel-pica-bold nw-o-link-split__anchor\" href=\"/news/science-environment-63407459\"><h3 class=\"gs-c-promo-heading__title gel-pica-bold nw-o-link-split__text\">UN warns key climate threshold slipping from sight</h3></a>, <a class=\"gs-c-promo-heading gs-o-faux-block-link__overlay-link gel-pica-bold nw-o-link-split__anchor\" href=\"/news/uk-politics-63418876\"><h3 class=\"gs-c-promo-heading__title gel-pica-bold nw-o-link-split__text\">Sunak criticised for skipping key climate summit</h3></a>, <a class=\"gs-c-promo-heading gs-o-faux-block-link__overlay-link gel-pica-bold nw-o-link-split__anchor\" href=\"/news/science-environment-63349621\"><h3 class=\"gs-c-promo-heading__title gel-pica-bold nw-o-link-split__text\">Nose-picking primates spark scientific quest</h3></a>, <a class=\"gs-c-promo-heading gs-o-faux-block-link__overlay-link gel-pica-bold nw-o-link-split__anchor\" href=\"/news/uk-politics-63426674\"><h3 class=\"gs-c-promo-heading__title gel-pica-bold nw-o-link-split__text\">Ministers admit missing water and nature targets</h3></a>, <a class=\"gs-c-promo-heading gs-o-faux-block-link__overlay-link gel-pica-bold nw-o-link-split__anchor\" href=\"https://www.bbc.co.uk/ideas/videos/should-animals-be-kept-in-zoos/p0d93nsv\"><h3 class=\"gs-c-promo-heading__title gel-pica-bold nw-o-link-split__text\">Should animals be kept in zoos?</h3></a>, <a class=\"gs-c-promo-heading gs-o-faux-block-link__overlay-link gel-pica-bold nw-o-link-split__anchor\" href=\"/news/science-environment-63418056\"><h3 class=\"gs-c-promo-heading__title gel-pica-bold nw-o-link-split__text\">Nasa space probes document big impacts on Mars</h3></a>, <a class=\"gs-c-promo-heading gs-o-faux-block-link__overlay-link gel-pica-bold nw-o-link-split__anchor\" href=\"/news/science-environment-63407459\"><h3 class=\"gs-c-promo-heading__title gel-pica-bold nw-o-link-split__text\">UN warns key climate threshold slipping from sight</h3></a>, <a class=\"gs-c-promo-heading gs-o-faux-block-link__overlay-link gel-pica-bold nw-o-link-split__anchor\" href=\"/news/uk-politics-63418876\"><h3 class=\"gs-c-promo-heading__title gel-pica-bold nw-o-link-split__text\">Sunak criticised for skipping key climate summit</h3></a>, <a class=\"gs-c-promo-heading gs-o-faux-block-link__overlay-link gel-pica-bold nw-o-link-split__anchor\" href=\"/news/science-environment-63349621\"><h3 class=\"gs-c-promo-heading__title gel-pica-bold nw-o-link-split__text\">Nose-picking primates spark scientific quest</h3></a>, <a class=\"gs-c-promo-heading gs-o-faux-block-link__overlay-link gel-pica-bold nw-o-link-split__anchor\" href=\"/news/uk-politics-63426674\"><h3 class=\"gs-c-promo-heading__title gel-pica-bold nw-o-link-split__text\">Ministers admit missing water and nature targets</h3></a>, <a class=\"gs-c-promo-heading gs-o-faux-block-link__overlay-link gel-pica-bold nw-o-link-split__anchor\" href=\"https://www.bbc.co.uk/ideas/videos/should-animals-be-kept-in-zoos/p0d93nsv\"><h3 class=\"gs-c-promo-heading__title gel-pica-bold nw-o-link-split__text\">Should animals be kept in zoos?</h3></a>, <a class=\"gs-c-promo-heading gs-o-faux-block-link__overlay-link gel-pica-bold nw-o-link-split__anchor\" href=\"/news/science-environment-63418056\"><h3 class=\"gs-c-promo-heading__title gel-pica-bold nw-o-link-split__text\">Nasa space probes document big impacts on Mars</h3></a>, <a class=\"gs-c-promo-heading gs-o-faux-block-link__overlay-link gel-pica-bold nw-o-link-split__anchor\" href=\"/news/science-environment-63407459\"><h3 class=\"gs-c-promo-heading__title gel-pica-bold nw-o-link-split__text\">UN warns key climate threshold slipping from sight</h3></a>, <a class=\"gs-c-promo-heading gs-o-faux-block-link__overlay-link gel-pica-bold nw-o-link-split__anchor\" href=\"/news/uk-politics-63418876\"><h3 class=\"gs-c-promo-heading__title gel-pica-bold nw-o-link-split__text\">Sunak criticised for skipping key climate summit</h3></a>, <a class=\"gs-c-promo-heading gs-o-faux-block-link__overlay-link gel-pica-bold nw-o-link-split__anchor\" href=\"/news/science-environment-63349621\"><h3 class=\"gs-c-promo-heading__title gel-pica-bold nw-o-link-split__text\">Nose-picking primates spark scientific quest</h3></a>, <a class=\"gs-c-promo-heading gs-o-faux-block-link__overlay-link gel-pica-bold nw-o-link-split__anchor\" href=\"/news/science-environment-63316362\"><h3 class=\"gs-c-promo-heading__title gel-pica-bold nw-o-link-split__text\">The big issues facing Egypt's COP27 climate summit</h3></a>, <a class=\"gs-c-promo-heading gs-o-faux-block-link__overlay-link gel-pica-bold nw-o-link-split__anchor\" href=\"/news/science-environment-63300959\"><h3 class=\"gs-c-promo-heading__title gel-pica-bold nw-o-link-split__text\">Can floating turbines harvest the world's wind?</h3></a>, <a class=\"gs-c-promo-heading gs-o-faux-block-link__overlay-link gel-pica-bold nw-o-link-split__anchor\" href=\"/news/science-environment-63200589\"><h3 class=\"gs-c-promo-heading__title gel-pica-bold nw-o-link-split__text\">Can an enormous seaweed farm help curb climate change?</h3></a>, <a class=\"gs-c-promo-heading gs-o-faux-block-link__overlay-link gel-pica-bold nw-o-link-split__anchor\" href=\"/news/science-environment-63147947\"><h3 class=\"gs-c-promo-heading__title gel-pica-bold nw-o-link-split__text\">Greenland's future may be written under North Sea</h3></a>, <a class=\"gs-c-promo-heading gs-o-faux-block-link__overlay-link gel-pica-bold nw-o-link-split__anchor\" href=\"/news/science-environment-62917498\"><h3 class=\"gs-c-promo-heading__title gel-pica-bold nw-o-link-split__text\">Revealed: Huge gas flaring emissions never reported</h3></a>, <a class=\"gs-c-promo-heading gs-o-faux-block-link__overlay-link gel-pica-bold nw-o-link-split__anchor\" href=\"/news/science-environment-63319814\"><h3 class=\"gs-c-promo-heading__title gel-pica-bold nw-o-link-split__text\">James Webb telescope spies 'Pillars of Creation'</h3></a>, <a class=\"gs-c-promo-heading gs-o-faux-block-link__overlay-link gel-pica-bold nw-o-link-split__anchor\" href=\"/news/science-environment-63336201\"><h3 class=\"gs-c-promo-heading__title gel-pica-bold nw-o-link-split__text\">Europe's delayed Mars rover to get rescue package</h3></a>, <a class=\"gs-c-promo-heading gs-o-faux-block-link__overlay-link gel-pica-bold nw-o-link-split__anchor\" href=\"/news/science-environment-63322220\"><h3 class=\"gs-c-promo-heading__title gel-pica-bold nw-o-link-split__text\">Debut for next Ariane rocket is pushed back again</h3></a>, <a class=\"gs-c-promo-heading gs-o-faux-block-link__overlay-link gel-pica-bold nw-o-link-split__anchor\" href=\"/news/world-africa-63315388\"><h3 class=\"gs-c-promo-heading__title gel-pica-bold nw-o-link-split__text\">Nasa shows how a war zone faded from space</h3></a>, <a class=\"gs-c-promo-heading gs-o-faux-block-link__overlay-link gel-pica-bold nw-o-link-split__anchor\" href=\"/news/science-environment-63269429\"><h3 class=\"gs-c-promo-heading__title gel-pica-bold nw-o-link-split__text\">Rocket arrives for first space launch from UK</h3></a>, <a class=\"gs-c-promo-heading gs-o-faux-block-link__overlay-link gel-pica-bold nw-o-link-split__anchor\" href=\"https://www.bbc.com/worklife/article/20221024-vasectomy-the-us-men-embracing-permanent-birth-control\"><h3 class=\"gs-c-promo-heading__title gel-pica-bold nw-o-link-split__text\">The young US men choosing vasectomies</h3></a>, <a class=\"gs-c-promo-heading gs-o-faux-block-link__overlay-link gel-pica-bold nw-o-link-split__anchor\" href=\"https://www.bbc.com/travel/article/20221027-india-the-city-with-gold-in-its-sewage-lines\"><h3 class=\"gs-c-promo-heading__title gel-pica-bold nw-o-link-split__text\">The Indian city turning glass into gold</h3></a>, <a class=\"gs-c-promo-heading gs-o-faux-block-link__overlay-link gel-pica-bold nw-o-link-split__anchor\" href=\"https://www.bbc.com/culture/article/20221027-10-of-the-best-films-to-watch-this-november\"><h3 class=\"gs-c-promo-heading__title gel-pica-bold nw-o-link-split__text\">10 films to watch in November</h3></a>, <a class=\"gs-c-promo-heading gs-o-faux-block-link__overlay-link gel-pica-bold nw-o-link-split__anchor\" href=\"https://www.bbc.com/future/article/20221027-unravelling-the-mysterious-cause-of-autobrewery-syndrome\"><h3 class=\"gs-c-promo-heading__title gel-pica-bold nw-o-link-split__text\">The people whose guts produce alcohol</h3></a>, <a class=\"gs-c-promo-heading gs-o-faux-block-link__overlay-link gel-pica-bold nw-o-link-split__anchor\" href=\"https://www.bbc.com/worklife/article/20221021-the-bosses-who-silently-nudge-out-workers\"><h3 class=\"gs-c-promo-heading__title gel-pica-bold nw-o-link-split__text\">'I'd rather just have been fired'</h3></a>, <a class=\"gs-c-promo-heading gs-o-faux-block-link__overlay-link gel-pica-bold nw-o-link-split__anchor\" href=\"https://www.bbc.com/travel/article/20221023-the-forgotten-history-of-the-us-african-american-coal-towns\"><h3 class=\"gs-c-promo-heading__title gel-pica-bold nw-o-link-split__text\">A lost US town back in the spotlight</h3></a>]\n",
      "34\n",
      "<class 'bs4.element.Tag'>\n"
     ]
    }
   ],
   "source": [
    "print(results)\n",
    "print(len(results))\n",
    "print(type(results[0]))"
   ]
  },
  {
   "cell_type": "code",
   "execution_count": 17,
   "id": "f356ffa4",
   "metadata": {},
   "outputs": [],
   "source": [
    "titles = [e.find('h3') for e in results]"
   ]
  },
  {
   "cell_type": "code",
   "execution_count": 18,
   "id": "1ba3a5f9",
   "metadata": {},
   "outputs": [
    {
     "data": {
      "text/plain": [
       "[<h3 class=\"gs-c-promo-heading__title gel-pica-bold nw-o-link-split__text\">Ministers admit missing water and nature targets</h3>,\n",
       " <h3 class=\"gs-c-promo-heading__title gel-pica-bold nw-o-link-split__text\">Should animals be kept in zoos?</h3>,\n",
       " <h3 class=\"gs-c-promo-heading__title gel-pica-bold nw-o-link-split__text\">Nasa space probes document big impacts on Mars</h3>,\n",
       " <h3 class=\"gs-c-promo-heading__title gel-pica-bold nw-o-link-split__text\">UN warns key climate threshold slipping from sight</h3>,\n",
       " <h3 class=\"gs-c-promo-heading__title gel-pica-bold nw-o-link-split__text\">Sunak criticised for skipping key climate summit</h3>,\n",
       " <h3 class=\"gs-c-promo-heading__title gel-pica-bold nw-o-link-split__text\">Nose-picking primates spark scientific quest</h3>,\n",
       " <h3 class=\"gs-c-promo-heading__title gel-pica-bold nw-o-link-split__text\">Ministers admit missing water and nature targets</h3>,\n",
       " <h3 class=\"gs-c-promo-heading__title gel-pica-bold nw-o-link-split__text\">Should animals be kept in zoos?</h3>,\n",
       " <h3 class=\"gs-c-promo-heading__title gel-pica-bold nw-o-link-split__text\">Nasa space probes document big impacts on Mars</h3>,\n",
       " <h3 class=\"gs-c-promo-heading__title gel-pica-bold nw-o-link-split__text\">UN warns key climate threshold slipping from sight</h3>,\n",
       " <h3 class=\"gs-c-promo-heading__title gel-pica-bold nw-o-link-split__text\">Sunak criticised for skipping key climate summit</h3>,\n",
       " <h3 class=\"gs-c-promo-heading__title gel-pica-bold nw-o-link-split__text\">Nose-picking primates spark scientific quest</h3>,\n",
       " <h3 class=\"gs-c-promo-heading__title gel-pica-bold nw-o-link-split__text\">Ministers admit missing water and nature targets</h3>,\n",
       " <h3 class=\"gs-c-promo-heading__title gel-pica-bold nw-o-link-split__text\">Should animals be kept in zoos?</h3>,\n",
       " <h3 class=\"gs-c-promo-heading__title gel-pica-bold nw-o-link-split__text\">Nasa space probes document big impacts on Mars</h3>,\n",
       " <h3 class=\"gs-c-promo-heading__title gel-pica-bold nw-o-link-split__text\">UN warns key climate threshold slipping from sight</h3>,\n",
       " <h3 class=\"gs-c-promo-heading__title gel-pica-bold nw-o-link-split__text\">Sunak criticised for skipping key climate summit</h3>,\n",
       " <h3 class=\"gs-c-promo-heading__title gel-pica-bold nw-o-link-split__text\">Nose-picking primates spark scientific quest</h3>,\n",
       " <h3 class=\"gs-c-promo-heading__title gel-pica-bold nw-o-link-split__text\">The big issues facing Egypt's COP27 climate summit</h3>,\n",
       " <h3 class=\"gs-c-promo-heading__title gel-pica-bold nw-o-link-split__text\">Can floating turbines harvest the world's wind?</h3>,\n",
       " <h3 class=\"gs-c-promo-heading__title gel-pica-bold nw-o-link-split__text\">Can an enormous seaweed farm help curb climate change?</h3>,\n",
       " <h3 class=\"gs-c-promo-heading__title gel-pica-bold nw-o-link-split__text\">Greenland's future may be written under North Sea</h3>,\n",
       " <h3 class=\"gs-c-promo-heading__title gel-pica-bold nw-o-link-split__text\">Revealed: Huge gas flaring emissions never reported</h3>,\n",
       " <h3 class=\"gs-c-promo-heading__title gel-pica-bold nw-o-link-split__text\">James Webb telescope spies 'Pillars of Creation'</h3>,\n",
       " <h3 class=\"gs-c-promo-heading__title gel-pica-bold nw-o-link-split__text\">Europe's delayed Mars rover to get rescue package</h3>,\n",
       " <h3 class=\"gs-c-promo-heading__title gel-pica-bold nw-o-link-split__text\">Debut for next Ariane rocket is pushed back again</h3>,\n",
       " <h3 class=\"gs-c-promo-heading__title gel-pica-bold nw-o-link-split__text\">Nasa shows how a war zone faded from space</h3>,\n",
       " <h3 class=\"gs-c-promo-heading__title gel-pica-bold nw-o-link-split__text\">Rocket arrives for first space launch from UK</h3>,\n",
       " <h3 class=\"gs-c-promo-heading__title gel-pica-bold nw-o-link-split__text\">The young US men choosing vasectomies</h3>,\n",
       " <h3 class=\"gs-c-promo-heading__title gel-pica-bold nw-o-link-split__text\">The Indian city turning glass into gold</h3>,\n",
       " <h3 class=\"gs-c-promo-heading__title gel-pica-bold nw-o-link-split__text\">10 films to watch in November</h3>,\n",
       " <h3 class=\"gs-c-promo-heading__title gel-pica-bold nw-o-link-split__text\">The people whose guts produce alcohol</h3>,\n",
       " <h3 class=\"gs-c-promo-heading__title gel-pica-bold nw-o-link-split__text\">'I'd rather just have been fired'</h3>,\n",
       " <h3 class=\"gs-c-promo-heading__title gel-pica-bold nw-o-link-split__text\">A lost US town back in the spotlight</h3>]"
      ]
     },
     "execution_count": 18,
     "metadata": {},
     "output_type": "execute_result"
    }
   ],
   "source": [
    "titles"
   ]
  },
  {
   "cell_type": "code",
   "execution_count": null,
   "id": "7083ae09",
   "metadata": {},
   "outputs": [],
   "source": []
  }
 ],
 "metadata": {
  "kernelspec": {
   "display_name": "webscraper",
   "language": "python",
   "name": "webscraper"
  },
  "language_info": {
   "codemirror_mode": {
    "name": "ipython",
    "version": 3
   },
   "file_extension": ".py",
   "mimetype": "text/x-python",
   "name": "python",
   "nbconvert_exporter": "python",
   "pygments_lexer": "ipython3",
   "version": "3.10.4"
  }
 },
 "nbformat": 4,
 "nbformat_minor": 5
}
