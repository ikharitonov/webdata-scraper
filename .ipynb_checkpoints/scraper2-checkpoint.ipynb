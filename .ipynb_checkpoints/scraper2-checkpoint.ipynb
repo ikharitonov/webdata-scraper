{
 "cells": [
  {
   "cell_type": "markdown",
   "id": "5c6bc912",
   "metadata": {},
   "source": [
    "# craft.co scraper"
   ]
  },
  {
   "cell_type": "code",
   "execution_count": 1,
   "id": "ef3a23ef",
   "metadata": {},
   "outputs": [],
   "source": [
    "import requests\n",
    "from bs4 import BeautifulSoup"
   ]
  },
  {
   "cell_type": "code",
   "execution_count": 2,
   "id": "8b13abe8",
   "metadata": {},
   "outputs": [],
   "source": [
    "locations_ref_dict = {\n",
    "    'Canada': 'CA',\n",
    "    'Mississauga, CA': 'Mississauga%2C%20CA',\n",
    "    'Surrey, CA': 'Surrey%2C%20CA',\n",
    "    'Toronto, CA': 'Toronto%2C%20CA',\n",
    "    'Burnaby, CA': 'Burnaby%2C%20CA',\n",
    "    'Calgary, CA': 'Calgary%2C%20CA',\n",
    "    'Lévis, CA': 'Lévis%2C%20CA',\n",
    "    'Montréal, CA': 'Montréal%2C%20CA'\n",
    "}"
   ]
  },
  {
   "cell_type": "code",
   "execution_count": 3,
   "id": "41d73393",
   "metadata": {},
   "outputs": [],
   "source": [
    "def contruct_url(locations, tags):\n",
    "    base_url = 'https://craft.co/search?layout=table&order=relevance&q='\n",
    "    composed_string = ''\n",
    "    s1 = '%5B'\n",
    "    s2 = '%5D='\n",
    "    \n",
    "    location_codes = [locations_ref_dict[l] for l in locations]\n",
    "    for l in location_codes: composed_string += '&locations' + s1 + str(location_codes.index(l)) + s2 + l\n",
    "    for t in tags: composed_string += '&tags' + s1 + str(tags.index(t)) + s2 + t\n",
    "        \n",
    "    return base_url + composed_string"
   ]
  },
  {
   "cell_type": "code",
   "execution_count": 4,
   "id": "2a58f589",
   "metadata": {},
   "outputs": [
    {
     "name": "stdout",
     "output_type": "stream",
     "text": [
      "https://craft.co/search?layout=table&order=relevance&q=&locations%5B0%5D=CA&locations%5B1%5D=Toronto%2C%20CA&tags%5B0%5D=biotech&tags%5B1%5D=pharma&tags%5B2%5D=oncology\n"
     ]
    }
   ],
   "source": [
    "test_url = contruct_url(['Canada', 'Toronto, CA'], ['biotech', 'pharma', 'oncology'])\n",
    "print(test_url)"
   ]
  },
  {
   "cell_type": "code",
   "execution_count": 5,
   "id": "a87779f2",
   "metadata": {},
   "outputs": [],
   "source": [
    "page = requests.get(test_url)\n",
    "soup = BeautifulSoup(page.content, \"html.parser\")"
   ]
  },
  {
   "cell_type": "code",
   "execution_count": 6,
   "id": "4d83f15e",
   "metadata": {},
   "outputs": [],
   "source": [
    "h3_class = '_2nw_L'\n",
    "company_names = soup.find_all(\"h3\", {\"class\": h3_class})"
   ]
  },
  {
   "cell_type": "code",
   "execution_count": 7,
   "id": "d78b1490",
   "metadata": {},
   "outputs": [],
   "source": [
    "for name in company_names: print(name.text)"
   ]
  },
  {
   "cell_type": "code",
   "execution_count": 8,
   "id": "ddbe3f16",
   "metadata": {},
   "outputs": [],
   "source": [
    "# retrieve all relevant vacancy information"
   ]
  },
  {
   "cell_type": "code",
   "execution_count": 9,
   "id": "9c5a9833",
   "metadata": {},
   "outputs": [],
   "source": [
    "# save in excel format"
   ]
  },
  {
   "cell_type": "code",
   "execution_count": null,
   "id": "ffe57570",
   "metadata": {},
   "outputs": [],
   "source": []
  }
 ],
 "metadata": {
  "kernelspec": {
   "display_name": "webscraper",
   "language": "python",
   "name": "webscraper"
  },
  "language_info": {
   "codemirror_mode": {
    "name": "ipython",
    "version": 3
   },
   "file_extension": ".py",
   "mimetype": "text/x-python",
   "name": "python",
   "nbconvert_exporter": "python",
   "pygments_lexer": "ipython3",
   "version": "3.10.4"
  }
 },
 "nbformat": 4,
 "nbformat_minor": 5
}
